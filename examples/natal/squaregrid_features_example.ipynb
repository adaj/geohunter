{
 "cells": [
  {
   "cell_type": "code",
   "execution_count": 1,
   "metadata": {},
   "outputs": [],
   "source": [
    "PACKAGE_FOLDER = '/home/adelsondias/Repos/geohunter'\n",
    "\n",
    "import sys\n",
    "sys.path.append(PACKAGE_FOLDER)\n",
    "import geohunter\n",
    "import pandas as pd\n",
    "import numpy as np\n",
    "import matplotlib.pyplot as plt"
   ]
  },
  {
   "cell_type": "code",
   "execution_count": 2,
   "metadata": {},
   "outputs": [
    {
     "data": {
      "text/plain": [
       "<matplotlib.axes._subplots.AxesSubplot at 0x7fd00ec274e0>"
      ]
     },
     "execution_count": 2,
     "metadata": {},
     "output_type": "execute_result"
    },
    {
     "data": {
      "image/png": "[encoded data removed]",
      "text/plain": [
       "<matplotlib.figure.Figure at 0x7fd00ec1c7b8>"
      ]
     },
     "metadata": {
      "needs_background": "light"
     },
     "output_type": "display_data"
    }
   ],
   "source": [
    "import geopandas as gpd\n",
    "\n",
    "city_shape = gpd.read_file('bairros_natal.geojson')\n",
    "city_shape.plot()"
   ]
  },
  {
   "cell_type": "code",
   "execution_count": 3,
   "metadata": {},
   "outputs": [
    {
     "data": {
      "text/plain": [
       "<geohunter.features.Landmarks at 0x7fd00ebdcb00>"
      ]
     },
     "execution_count": 3,
     "metadata": {},
     "output_type": "execute_result"
    }
   ],
   "source": [
    "landmarks = geohunter.features.Landmarks(city_shape, \n",
    "                                         osm_folder='/home/adelsondias/Repos/geohunter/examples/natal/')\n",
    "landmarks.fit(points={\n",
    "    'amenity':['hospital', 'place_of_worship', 'police'],\n",
    "    'leisure':['*'],\n",
    "    'tourism':['*'],\n",
    "    'shop':['*'],\n",
    "    'highway':['bus_stop']\n",
    "}, lines={\n",
    "    'highway':['residential', 'primary']\n",
    "})"
   ]
  },
  {
   "cell_type": "code",
   "execution_count": 4,
   "metadata": {},
   "outputs": [
    {
     "name": "stderr",
     "output_type": "stream",
     "text": [
      "/usr/local/lib/python3.6/dist-packages/pandas/core/indexing.py:362: SettingWithCopyWarning: \n",
      "A value is trying to be set on a copy of a slice from a DataFrame.\n",
      "Try using .loc[row_indexer,col_indexer] = value instead\n",
      "\n",
      "See the caveats in the documentation: http://pandas.pydata.org/pandas-docs/stable/indexing.html#indexing-view-versus-copy\n",
      "  self.obj[key] = _infer_fill_value(value)\n",
      "/usr/local/lib/python3.6/dist-packages/pandas/core/indexing.py:543: SettingWithCopyWarning: \n",
      "A value is trying to be set on a copy of a slice from a DataFrame.\n",
      "Try using .loc[row_indexer,col_indexer] = value instead\n",
      "\n",
      "See the caveats in the documentation: http://pandas.pydata.org/pandas-docs/stable/indexing.html#indexing-view-versus-copy\n",
      "  self.obj[item] = s\n"
     ]
    },
    {
     "data": {
      "text/plain": [
       "<matplotlib.axes._subplots.AxesSubplot at 0x7fd00cad1320>"
      ]
     },
     "execution_count": 4,
     "metadata": {},
     "output_type": "execute_result"
    },
    {
     "data": {
      "image/png": "[encoded data removed]",
      "text/plain": [
       "<matplotlib.figure.Figure at 0x7fd00c9c5b00>"
      ]
     },
     "metadata": {
      "needs_background": "light"
     },
     "output_type": "display_data"
    }
   ],
   "source": [
    "sgrid = geohunter.features.SquareGrid(1).fit(city_shape)\n",
    "sgrid.data.plot()"
   ]
  },
  {
   "cell_type": "code",
   "execution_count": 29,
   "metadata": {},
   "outputs": [],
   "source": [
    "pgrid = geohunter.features.Grid(0.5).fit(sgrid.data[['geometry','BAIRRO']])"
   ]
  },
  {
   "cell_type": "code",
   "execution_count": 34,
   "metadata": {},
   "outputs": [
    {
     "name": "stderr",
     "output_type": "stream",
     "text": [
      "/usr/local/lib/python3.6/dist-packages/sklearn/model_selection/_search.py:791: RuntimeWarning: invalid value encountered in subtract\n",
      "  array_means[:, np.newaxis]) ** 2,\n",
      "/usr/local/lib/python3.6/dist-packages/sklearn/model_selection/_search.py:791: RuntimeWarning: invalid value encountered in subtract\n",
      "  array_means[:, np.newaxis]) ** 2,\n",
      "/usr/local/lib/python3.6/dist-packages/sklearn/model_selection/_search.py:791: RuntimeWarning: invalid value encountered in subtract\n",
      "  array_means[:, np.newaxis]) ** 2,\n",
      "/usr/local/lib/python3.6/dist-packages/sklearn/model_selection/_search.py:791: RuntimeWarning: invalid value encountered in subtract\n",
      "  array_means[:, np.newaxis]) ** 2,\n",
      "/usr/local/lib/python3.6/dist-packages/sklearn/model_selection/_search.py:791: RuntimeWarning: invalid value encountered in subtract\n",
      "  array_means[:, np.newaxis]) ** 2,\n",
      "/usr/local/lib/python3.6/dist-packages/sklearn/model_selection/_search.py:791: RuntimeWarning: invalid value encountered in subtract\n",
      "  array_means[:, np.newaxis]) ** 2,\n",
      "/usr/local/lib/python3.6/dist-packages/sklearn/model_selection/_search.py:791: RuntimeWarning: invalid value encountered in subtract\n",
      "  array_means[:, np.newaxis]) ** 2,\n",
      "/usr/local/lib/python3.6/dist-packages/sklearn/model_selection/_search.py:791: RuntimeWarning: invalid value encountered in subtract\n",
      "  array_means[:, np.newaxis]) ** 2,\n",
      "/usr/local/lib/python3.6/dist-packages/sklearn/model_selection/_search.py:791: RuntimeWarning: invalid value encountered in subtract\n",
      "  array_means[:, np.newaxis]) ** 2,\n"
     ]
    }
   ],
   "source": [
    "Xk = geohunter.features.KDEFeatures(landmarks, kde_params='auto')\\\n",
    "                        .fit_transform(pgrid.data)"
   ]
  },
  {
   "cell_type": "code",
   "execution_count": 35,
   "metadata": {},
   "outputs": [
    {
     "data": {
      "image/png": "[encoded data removed]",
      "text/plain": [
       "<matplotlib.figure.Figure at 0x7fd00c433e80>"
      ]
     },
     "metadata": {
      "needs_background": "light"
     },
     "output_type": "display_data"
    }
   ],
   "source": [
    "from mpl_toolkits.axes_grid1.anchored_artists import AnchoredSizeBar\n",
    "import matplotlib.font_manager as fm\n",
    "\n",
    "fig, ax = plt.subplots(figsize=(3,4))\n",
    "sgrid.data.plot(ax=ax, color='white', edgecolor='black')\n",
    "pgrid.data.plot(ax=ax, color='black', alpha=0.8)\n",
    "\n",
    "fontprops = fm.FontProperties(size=18)\n",
    "scalebar = AnchoredSizeBar(ax.transData,\n",
    "                           1/110, '1km', 'lower left', \n",
    "                           pad=1,\n",
    "                           color='black',\n",
    "                           frameon=False,\n",
    "                           size_vertical=1/110, fontproperties=fontprops)\n",
    "ax.add_artist(scalebar)\n",
    "ax.axis('off')\n",
    "plt.tight_layout()\n",
    "# fig.savefig('grids.pdf',dpi=100)"
   ]
  },
  {
   "cell_type": "code",
   "execution_count": 36,
   "metadata": {},
   "outputs": [
    {
     "name": "stderr",
     "output_type": "stream",
     "text": [
      "/usr/local/lib/python3.6/dist-packages/ipykernel_launcher.py:2: UserWarning: Pandas doesn't allow columns to be created via a new attribute name - see https://pandas.pydata.org/pandas-docs/stable/indexing.html#attribute-access\n",
      "  \n"
     ]
    }
   ],
   "source": [
    "x = Xk.join(pgrid.data[['geometry','BAIRRO']])\n",
    "x.crs = {'init':'epsg:4326'}\n",
    "x = gpd.sjoin(x, sgrid.data[['geometry','BAIRRO']]).groupby('index_right').mean()\n",
    "x.index.name = 'square_place'\n",
    "Xk = gpd.GeoDataFrame(x.join(sgrid.data))"
   ]
  },
  {
   "cell_type": "code",
   "execution_count": 37,
   "metadata": {},
   "outputs": [
    {
     "data": {
      "text/html": [
       "<div>\n",
       "<style scoped>\n",
       "    .dataframe tbody tr th:only-of-type {\n",
       "        vertical-align: middle;\n",
       "    }\n",
       "\n",
       "    .dataframe tbody tr th {\n",
       "        vertical-align: top;\n",
       "    }\n",
       "\n",
       "    .dataframe thead th {\n",
       "        text-align: right;\n",
       "    }\n",
       "</style>\n",
       "<table border=\"1\" class=\"dataframe\">\n",
       "  <thead>\n",
       "    <tr style=\"text-align: right;\">\n",
       "      <th></th>\n",
       "      <th>kde:amenity_hospital</th>\n",
       "      <th>kde:amenity_place_of_worship</th>\n",
       "      <th>kde:amenity_police</th>\n",
       "      <th>kde:leisure_*</th>\n",
       "      <th>kde:tourism_*</th>\n",
       "      <th>kde:shop_*</th>\n",
       "      <th>kde:highway_bus_stop</th>\n",
       "      <th>kde:highway_residential</th>\n",
       "      <th>kde:highway_primary</th>\n",
       "      <th>geometry</th>\n",
       "      <th>index_right</th>\n",
       "      <th>BAIRRO</th>\n",
       "      <th>REG_ADM</th>\n",
       "      <th>lon</th>\n",
       "      <th>lat</th>\n",
       "    </tr>\n",
       "    <tr>\n",
       "      <th>square_place</th>\n",
       "      <th></th>\n",
       "      <th></th>\n",
       "      <th></th>\n",
       "      <th></th>\n",
       "      <th></th>\n",
       "      <th></th>\n",
       "      <th></th>\n",
       "      <th></th>\n",
       "      <th></th>\n",
       "      <th></th>\n",
       "      <th></th>\n",
       "      <th></th>\n",
       "      <th></th>\n",
       "      <th></th>\n",
       "      <th></th>\n",
       "    </tr>\n",
       "  </thead>\n",
       "  <tbody>\n",
       "    <tr>\n",
       "      <th>7</th>\n",
       "      <td>-2.215459</td>\n",
       "      <td>-14.222142</td>\n",
       "      <td>-0.861577</td>\n",
       "      <td>1.204044</td>\n",
       "      <td>-19.189886</td>\n",
       "      <td>-12.720072</td>\n",
       "      <td>-4.991425</td>\n",
       "      <td>3.076318</td>\n",
       "      <td>-46.838811</td>\n",
       "      <td>POLYGON ((-35.29122514945666 -5.85218589623224...</td>\n",
       "      <td>19</td>\n",
       "      <td>Guarapes</td>\n",
       "      <td>Oeste</td>\n",
       "      <td>-35.28668</td>\n",
       "      <td>-5.847640</td>\n",
       "    </tr>\n",
       "    <tr>\n",
       "      <th>8</th>\n",
       "      <td>-2.539755</td>\n",
       "      <td>-14.522906</td>\n",
       "      <td>-0.791431</td>\n",
       "      <td>-1.020138</td>\n",
       "      <td>-20.081490</td>\n",
       "      <td>-11.794960</td>\n",
       "      <td>-6.152509</td>\n",
       "      <td>2.434452</td>\n",
       "      <td>-68.018441</td>\n",
       "      <td>POLYGON ((-35.29122514945666 -5.84309498714133...</td>\n",
       "      <td>19</td>\n",
       "      <td>Guarapes</td>\n",
       "      <td>Oeste</td>\n",
       "      <td>-35.28668</td>\n",
       "      <td>-5.838550</td>\n",
       "    </tr>\n",
       "    <tr>\n",
       "      <th>16</th>\n",
       "      <td>3.671518</td>\n",
       "      <td>-1.284774</td>\n",
       "      <td>-2.265299</td>\n",
       "      <td>1.919123</td>\n",
       "      <td>-13.538078</td>\n",
       "      <td>-0.381358</td>\n",
       "      <td>2.246175</td>\n",
       "      <td>4.121558</td>\n",
       "      <td>-17.551378</td>\n",
       "      <td>POLYGON ((-35.29122514945666 -5.77036771441406...</td>\n",
       "      <td>33</td>\n",
       "      <td>N. S. Apresentação</td>\n",
       "      <td>Norte</td>\n",
       "      <td>-35.28668</td>\n",
       "      <td>-5.765822</td>\n",
       "    </tr>\n",
       "    <tr>\n",
       "      <th>17</th>\n",
       "      <td>3.291435</td>\n",
       "      <td>-3.313779</td>\n",
       "      <td>-2.761924</td>\n",
       "      <td>2.262865</td>\n",
       "      <td>-13.598472</td>\n",
       "      <td>-1.816797</td>\n",
       "      <td>0.952536</td>\n",
       "      <td>4.272802</td>\n",
       "      <td>-26.156459</td>\n",
       "      <td>POLYGON ((-35.29122514945666 -5.76127680532315...</td>\n",
       "      <td>33</td>\n",
       "      <td>N. S. Apresentação</td>\n",
       "      <td>Norte</td>\n",
       "      <td>-35.28668</td>\n",
       "      <td>-5.756731</td>\n",
       "    </tr>\n",
       "    <tr>\n",
       "      <th>18</th>\n",
       "      <td>2.387067</td>\n",
       "      <td>-5.896353</td>\n",
       "      <td>-3.307689</td>\n",
       "      <td>1.479408</td>\n",
       "      <td>-14.308222</td>\n",
       "      <td>-4.414960</td>\n",
       "      <td>-2.094441</td>\n",
       "      <td>4.057135</td>\n",
       "      <td>-13.214755</td>\n",
       "      <td>POLYGON ((-35.29122514945666 -5.75218589623224...</td>\n",
       "      <td>33</td>\n",
       "      <td>N. S. Apresentação</td>\n",
       "      <td>Norte</td>\n",
       "      <td>-35.28668</td>\n",
       "      <td>-5.747640</td>\n",
       "    </tr>\n",
       "  </tbody>\n",
       "</table>\n",
       "</div>"
      ],
      "text/plain": [
       "              kde:amenity_hospital  kde:amenity_place_of_worship  \\\n",
       "square_place                                                       \n",
       "7                        -2.215459                    -14.222142   \n",
       "8                        -2.539755                    -14.522906   \n",
       "16                        3.671518                     -1.284774   \n",
       "17                        3.291435                     -3.313779   \n",
       "18                        2.387067                     -5.896353   \n",
       "\n",
       "              kde:amenity_police  kde:leisure_*  kde:tourism_*  kde:shop_*  \\\n",
       "square_place                                                                 \n",
       "7                      -0.861577       1.204044     -19.189886  -12.720072   \n",
       "8                      -0.791431      -1.020138     -20.081490  -11.794960   \n",
       "16                     -2.265299       1.919123     -13.538078   -0.381358   \n",
       "17                     -2.761924       2.262865     -13.598472   -1.816797   \n",
       "18                     -3.307689       1.479408     -14.308222   -4.414960   \n",
       "\n",
       "              kde:highway_bus_stop  kde:highway_residential  \\\n",
       "square_place                                                  \n",
       "7                        -4.991425                 3.076318   \n",
       "8                        -6.152509                 2.434452   \n",
       "16                        2.246175                 4.121558   \n",
       "17                        0.952536                 4.272802   \n",
       "18                       -2.094441                 4.057135   \n",
       "\n",
       "              kde:highway_primary  \\\n",
       "square_place                        \n",
       "7                      -46.838811   \n",
       "8                      -68.018441   \n",
       "16                     -17.551378   \n",
       "17                     -26.156459   \n",
       "18                     -13.214755   \n",
       "\n",
       "                                                       geometry  index_right  \\\n",
       "square_place                                                                   \n",
       "7             POLYGON ((-35.29122514945666 -5.85218589623224...           19   \n",
       "8             POLYGON ((-35.29122514945666 -5.84309498714133...           19   \n",
       "16            POLYGON ((-35.29122514945666 -5.77036771441406...           33   \n",
       "17            POLYGON ((-35.29122514945666 -5.76127680532315...           33   \n",
       "18            POLYGON ((-35.29122514945666 -5.75218589623224...           33   \n",
       "\n",
       "                          BAIRRO REG_ADM       lon       lat  \n",
       "square_place                                                  \n",
       "7                       Guarapes   Oeste -35.28668 -5.847640  \n",
       "8                       Guarapes   Oeste -35.28668 -5.838550  \n",
       "16            N. S. Apresentação   Norte -35.28668 -5.765822  \n",
       "17            N. S. Apresentação   Norte -35.28668 -5.756731  \n",
       "18            N. S. Apresentação   Norte -35.28668 -5.747640  "
      ]
     },
     "execution_count": 37,
     "metadata": {},
     "output_type": "execute_result"
    }
   ],
   "source": [
    "Xk.head()"
   ]
  },
  {
   "cell_type": "markdown",
   "metadata": {},
   "source": [
    "# Baseline"
   ]
  },
  {
   "cell_type": "code",
   "execution_count": 38,
   "metadata": {},
   "outputs": [
    {
     "data": {
      "text/html": [
       "<div>\n",
       "<style scoped>\n",
       "    .dataframe tbody tr th:only-of-type {\n",
       "        vertical-align: middle;\n",
       "    }\n",
       "\n",
       "    .dataframe tbody tr th {\n",
       "        vertical-align: top;\n",
       "    }\n",
       "\n",
       "    .dataframe thead th {\n",
       "        text-align: right;\n",
       "    }\n",
       "</style>\n",
       "<table border=\"1\" class=\"dataframe\">\n",
       "  <thead>\n",
       "    <tr style=\"text-align: right;\">\n",
       "      <th></th>\n",
       "      <th>amenity_hospital</th>\n",
       "      <th>amenity_place_of_worship</th>\n",
       "      <th>amenity_police</th>\n",
       "      <th>leisure_*</th>\n",
       "      <th>tourism_*</th>\n",
       "      <th>shop_*</th>\n",
       "      <th>highway_bus_stop</th>\n",
       "      <th>highway_residential</th>\n",
       "      <th>highway_primary</th>\n",
       "    </tr>\n",
       "    <tr>\n",
       "      <th>square_place</th>\n",
       "      <th></th>\n",
       "      <th></th>\n",
       "      <th></th>\n",
       "      <th></th>\n",
       "      <th></th>\n",
       "      <th></th>\n",
       "      <th></th>\n",
       "      <th></th>\n",
       "      <th></th>\n",
       "    </tr>\n",
       "  </thead>\n",
       "  <tbody>\n",
       "    <tr>\n",
       "      <th>7</th>\n",
       "      <td>NaN</td>\n",
       "      <td>NaN</td>\n",
       "      <td>NaN</td>\n",
       "      <td>NaN</td>\n",
       "      <td>NaN</td>\n",
       "      <td>NaN</td>\n",
       "      <td>NaN</td>\n",
       "      <td>NaN</td>\n",
       "      <td>NaN</td>\n",
       "    </tr>\n",
       "    <tr>\n",
       "      <th>8</th>\n",
       "      <td>NaN</td>\n",
       "      <td>NaN</td>\n",
       "      <td>NaN</td>\n",
       "      <td>NaN</td>\n",
       "      <td>NaN</td>\n",
       "      <td>NaN</td>\n",
       "      <td>NaN</td>\n",
       "      <td>NaN</td>\n",
       "      <td>NaN</td>\n",
       "    </tr>\n",
       "    <tr>\n",
       "      <th>29</th>\n",
       "      <td>NaN</td>\n",
       "      <td>NaN</td>\n",
       "      <td>NaN</td>\n",
       "      <td>NaN</td>\n",
       "      <td>NaN</td>\n",
       "      <td>NaN</td>\n",
       "      <td>NaN</td>\n",
       "      <td>NaN</td>\n",
       "      <td>NaN</td>\n",
       "    </tr>\n",
       "    <tr>\n",
       "      <th>30</th>\n",
       "      <td>NaN</td>\n",
       "      <td>NaN</td>\n",
       "      <td>NaN</td>\n",
       "      <td>NaN</td>\n",
       "      <td>NaN</td>\n",
       "      <td>NaN</td>\n",
       "      <td>NaN</td>\n",
       "      <td>NaN</td>\n",
       "      <td>NaN</td>\n",
       "    </tr>\n",
       "    <tr>\n",
       "      <th>31</th>\n",
       "      <td>NaN</td>\n",
       "      <td>NaN</td>\n",
       "      <td>NaN</td>\n",
       "      <td>NaN</td>\n",
       "      <td>NaN</td>\n",
       "      <td>NaN</td>\n",
       "      <td>NaN</td>\n",
       "      <td>NaN</td>\n",
       "      <td>NaN</td>\n",
       "    </tr>\n",
       "  </tbody>\n",
       "</table>\n",
       "</div>"
      ],
      "text/plain": [
       "             amenity_hospital amenity_place_of_worship amenity_police  \\\n",
       "square_place                                                            \n",
       "7                         NaN                      NaN            NaN   \n",
       "8                         NaN                      NaN            NaN   \n",
       "29                        NaN                      NaN            NaN   \n",
       "30                        NaN                      NaN            NaN   \n",
       "31                        NaN                      NaN            NaN   \n",
       "\n",
       "             leisure_* tourism_* shop_* highway_bus_stop highway_residential  \\\n",
       "square_place                                                                   \n",
       "7                  NaN       NaN    NaN              NaN                 NaN   \n",
       "8                  NaN       NaN    NaN              NaN                 NaN   \n",
       "29                 NaN       NaN    NaN              NaN                 NaN   \n",
       "30                 NaN       NaN    NaN              NaN                 NaN   \n",
       "31                 NaN       NaN    NaN              NaN                 NaN   \n",
       "\n",
       "             highway_primary  \n",
       "square_place                  \n",
       "7                        NaN  \n",
       "8                        NaN  \n",
       "29                       NaN  \n",
       "30                       NaN  \n",
       "31                       NaN  "
      ]
     },
     "execution_count": 38,
     "metadata": {},
     "output_type": "execute_result"
    }
   ],
   "source": [
    "Xb = pd.DataFrame(index=sgrid.data.index, \n",
    "        columns=list(landmarks.pdf['tag'].unique())+list(landmarks.ldf['tag'].unique()))\n",
    "Xb.index.name = 'square_place'\n",
    "Xb.head()"
   ]
  },
  {
   "cell_type": "code",
   "execution_count": 39,
   "metadata": {},
   "outputs": [
    {
     "name": "stdout",
     "output_type": "stream",
     "text": [
      "Warning: CRS does not match!\n",
      "Warning: CRS does not match!\n"
     ]
    }
   ],
   "source": [
    "for ptag in landmarks.pdf['tag'].unique():\n",
    "    p = landmarks.pdf.loc[landmarks.pdf['tag']==ptag]\n",
    "    vb = gpd.sjoin(p, sgrid.data[['geometry']]).groupby('index_right').size()\n",
    "    Xb.loc[vb.index,ptag] = vb\n",
    "for ltag in landmarks.ldf['tag'].unique():\n",
    "    l = landmarks.ldf.loc[landmarks.ldf['tag']==ltag]\n",
    "    vb = gpd.sjoin(l, sgrid.data[['geometry']]).groupby('index_right').size()\n",
    "    Xb.loc[vb.index,ltag] = vb\n",
    "Xb = Xb.fillna(0)\n",
    "Xb = gpd.GeoDataFrame(Xb.join(sgrid.data))"
   ]
  },
  {
   "cell_type": "code",
   "execution_count": 41,
   "metadata": {},
   "outputs": [
    {
     "data": {
      "text/html": [
       "<div>\n",
       "<style scoped>\n",
       "    .dataframe tbody tr th:only-of-type {\n",
       "        vertical-align: middle;\n",
       "    }\n",
       "\n",
       "    .dataframe tbody tr th {\n",
       "        vertical-align: top;\n",
       "    }\n",
       "\n",
       "    .dataframe thead th {\n",
       "        text-align: right;\n",
       "    }\n",
       "</style>\n",
       "<table border=\"1\" class=\"dataframe\">\n",
       "  <thead>\n",
       "    <tr style=\"text-align: right;\">\n",
       "      <th></th>\n",
       "      <th>amenity_hospital</th>\n",
       "      <th>amenity_place_of_worship</th>\n",
       "      <th>amenity_police</th>\n",
       "      <th>leisure_*</th>\n",
       "      <th>tourism_*</th>\n",
       "      <th>shop_*</th>\n",
       "      <th>highway_bus_stop</th>\n",
       "      <th>highway_residential</th>\n",
       "      <th>highway_primary</th>\n",
       "      <th>geometry</th>\n",
       "      <th>index_right</th>\n",
       "      <th>BAIRRO</th>\n",
       "      <th>REG_ADM</th>\n",
       "      <th>lon</th>\n",
       "      <th>lat</th>\n",
       "    </tr>\n",
       "    <tr>\n",
       "      <th>index_right</th>\n",
       "      <th></th>\n",
       "      <th></th>\n",
       "      <th></th>\n",
       "      <th></th>\n",
       "      <th></th>\n",
       "      <th></th>\n",
       "      <th></th>\n",
       "      <th></th>\n",
       "      <th></th>\n",
       "      <th></th>\n",
       "      <th></th>\n",
       "      <th></th>\n",
       "      <th></th>\n",
       "      <th></th>\n",
       "      <th></th>\n",
       "    </tr>\n",
       "  </thead>\n",
       "  <tbody>\n",
       "    <tr>\n",
       "      <th>7</th>\n",
       "      <td>0</td>\n",
       "      <td>0</td>\n",
       "      <td>0</td>\n",
       "      <td>0</td>\n",
       "      <td>0</td>\n",
       "      <td>0</td>\n",
       "      <td>0</td>\n",
       "      <td>104</td>\n",
       "      <td>0</td>\n",
       "      <td>POLYGON ((-35.29122514945666 -5.85218589623224...</td>\n",
       "      <td>19</td>\n",
       "      <td>Guarapes</td>\n",
       "      <td>Oeste</td>\n",
       "      <td>-35.286680</td>\n",
       "      <td>-5.847640</td>\n",
       "    </tr>\n",
       "    <tr>\n",
       "      <th>8</th>\n",
       "      <td>0</td>\n",
       "      <td>0</td>\n",
       "      <td>0</td>\n",
       "      <td>0</td>\n",
       "      <td>0</td>\n",
       "      <td>0</td>\n",
       "      <td>0</td>\n",
       "      <td>27</td>\n",
       "      <td>0</td>\n",
       "      <td>POLYGON ((-35.29122514945666 -5.84309498714133...</td>\n",
       "      <td>19</td>\n",
       "      <td>Guarapes</td>\n",
       "      <td>Oeste</td>\n",
       "      <td>-35.286680</td>\n",
       "      <td>-5.838550</td>\n",
       "    </tr>\n",
       "    <tr>\n",
       "      <th>29</th>\n",
       "      <td>0</td>\n",
       "      <td>0</td>\n",
       "      <td>0</td>\n",
       "      <td>0</td>\n",
       "      <td>0</td>\n",
       "      <td>0</td>\n",
       "      <td>0</td>\n",
       "      <td>35</td>\n",
       "      <td>0</td>\n",
       "      <td>POLYGON ((-35.28213424036575 -5.86127680532315...</td>\n",
       "      <td>19</td>\n",
       "      <td>Guarapes</td>\n",
       "      <td>Oeste</td>\n",
       "      <td>-35.277589</td>\n",
       "      <td>-5.856731</td>\n",
       "    </tr>\n",
       "    <tr>\n",
       "      <th>30</th>\n",
       "      <td>0</td>\n",
       "      <td>0</td>\n",
       "      <td>0</td>\n",
       "      <td>0</td>\n",
       "      <td>0</td>\n",
       "      <td>0</td>\n",
       "      <td>0</td>\n",
       "      <td>74</td>\n",
       "      <td>0</td>\n",
       "      <td>POLYGON ((-35.28213424036575 -5.85218589623224...</td>\n",
       "      <td>19</td>\n",
       "      <td>Guarapes</td>\n",
       "      <td>Oeste</td>\n",
       "      <td>-35.277589</td>\n",
       "      <td>-5.847640</td>\n",
       "    </tr>\n",
       "    <tr>\n",
       "      <th>31</th>\n",
       "      <td>0</td>\n",
       "      <td>0</td>\n",
       "      <td>0</td>\n",
       "      <td>0</td>\n",
       "      <td>0</td>\n",
       "      <td>0</td>\n",
       "      <td>0</td>\n",
       "      <td>194</td>\n",
       "      <td>0</td>\n",
       "      <td>POLYGON ((-35.28213424036575 -5.84309498714133...</td>\n",
       "      <td>19</td>\n",
       "      <td>Guarapes</td>\n",
       "      <td>Oeste</td>\n",
       "      <td>-35.277589</td>\n",
       "      <td>-5.838550</td>\n",
       "    </tr>\n",
       "  </tbody>\n",
       "</table>\n",
       "</div>"
      ],
      "text/plain": [
       "             amenity_hospital  amenity_place_of_worship  amenity_police  \\\n",
       "index_right                                                               \n",
       "7                           0                         0               0   \n",
       "8                           0                         0               0   \n",
       "29                          0                         0               0   \n",
       "30                          0                         0               0   \n",
       "31                          0                         0               0   \n",
       "\n",
       "             leisure_*  tourism_*  shop_*  highway_bus_stop  \\\n",
       "index_right                                                   \n",
       "7                    0          0       0                 0   \n",
       "8                    0          0       0                 0   \n",
       "29                   0          0       0                 0   \n",
       "30                   0          0       0                 0   \n",
       "31                   0          0       0                 0   \n",
       "\n",
       "             highway_residential  highway_primary  \\\n",
       "index_right                                         \n",
       "7                            104                0   \n",
       "8                             27                0   \n",
       "29                            35                0   \n",
       "30                            74                0   \n",
       "31                           194                0   \n",
       "\n",
       "                                                      geometry  index_right  \\\n",
       "index_right                                                                   \n",
       "7            POLYGON ((-35.29122514945666 -5.85218589623224...           19   \n",
       "8            POLYGON ((-35.29122514945666 -5.84309498714133...           19   \n",
       "29           POLYGON ((-35.28213424036575 -5.86127680532315...           19   \n",
       "30           POLYGON ((-35.28213424036575 -5.85218589623224...           19   \n",
       "31           POLYGON ((-35.28213424036575 -5.84309498714133...           19   \n",
       "\n",
       "               BAIRRO REG_ADM        lon       lat  \n",
       "index_right                                         \n",
       "7            Guarapes   Oeste -35.286680 -5.847640  \n",
       "8            Guarapes   Oeste -35.286680 -5.838550  \n",
       "29           Guarapes   Oeste -35.277589 -5.856731  \n",
       "30           Guarapes   Oeste -35.277589 -5.847640  \n",
       "31           Guarapes   Oeste -35.277589 -5.838550  "
      ]
     },
     "execution_count": 41,
     "metadata": {},
     "output_type": "execute_result"
    }
   ],
   "source": [
    "Xb.head()"
   ]
  },
  {
   "cell_type": "markdown",
   "metadata": {},
   "source": [
    "# Visualizations"
   ]
  },
  {
   "cell_type": "code",
   "execution_count": 40,
   "metadata": {},
   "outputs": [
    {
     "data": {
      "image/png": "[encoded data removed]",
      "text/plain": [
       "<matplotlib.figure.Figure at 0x7fd00b8afb38>"
      ]
     },
     "metadata": {
      "needs_background": "light"
     },
     "output_type": "display_data"
    }
   ],
   "source": [
    "fig, ax = plt.subplots(figsize=(8,10),ncols=2, nrows=2)\n",
    "\n",
    "for i in range(2):\n",
    "    for j in range(2):\n",
    "        sgrid.data.plot(edgecolor='black', color='white', ax=ax[i][j], linewidth=3)   \n",
    "\n",
    "Xb.plot(column='amenity_hospital',ax=ax[0][0])\n",
    "Xk.plot(column='kde:amenity_hospital',ax=ax[0][1])\n",
    "\n",
    "Xb.plot(column='highway_residential',ax=ax[1][0])\n",
    "Xk.plot(column='kde:highway_residential',ax=ax[1][1])\n",
    "\n",
    "for i in range(2):\n",
    "    for j in range(2):\n",
    "        ax[i][j].axis('off')       \n",
    "        \n",
    "fontprops = fm.FontProperties(size=24)\n",
    "scalebar = AnchoredSizeBar(ax[1][0].transData,\n",
    "                           1/110, '1km', 'lower left', \n",
    "                           pad=1,\n",
    "                           color='black',\n",
    "                           frameon=False,\n",
    "                           size_vertical=1/110, fontproperties=fontprops)\n",
    "ax[1][0].add_artist(scalebar)\n",
    "plt.tight_layout()\n",
    "plt.savefig('qualitative.pdf',dpi=200)"
   ]
  },
  {
   "cell_type": "markdown",
   "metadata": {},
   "source": [
    "# Evaluation with metrics"
   ]
  }
 ],
 "metadata": {
  "kernelspec": {
   "display_name": "Python 3",
   "language": "python",
   "name": "python3"
  },
  "language_info": {
   "codemirror_mode": {
    "name": "ipython",
    "version": 3
   },
   "file_extension": ".py",
   "mimetype": "text/x-python",
   "name": "python",
   "nbconvert_exporter": "python",
   "pygments_lexer": "ipython3",
   "version": "3.6.7"
  }
 },
 "nbformat": 4,
 "nbformat_minor": 2
}
